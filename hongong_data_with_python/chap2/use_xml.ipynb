{
 "cells": [
  {
   "cell_type": "code",
   "execution_count": 1,
   "metadata": {},
   "outputs": [],
   "source": [
    "x_str = \"\"\"\n",
    "<book>\n",
    "    <name>혼자 공부하는 데이터 분석</name>\n",
    "    <author>박해선</author>\n",
    "    <year>2022</year>\n",
    "</book>\n",
    "\"\"\""
   ]
  },
  {
   "cell_type": "code",
   "execution_count": 6,
   "metadata": {},
   "outputs": [
    {
     "name": "stdout",
     "output_type": "stream",
     "text": [
      "<class 'xml.etree.ElementTree.Element'>\n",
      "<Element 'book' at 0x000001AC6340E390>\n"
     ]
    }
   ],
   "source": [
    "# xml은 Element 클래스의 객체로 바꿔주어야 한다.\n",
    "import xml.etree.ElementTree as et\n",
    "\n",
    "book = et.fromstring(x_str)\n",
    "print(type(book))\n",
    "print(book)"
   ]
  },
  {
   "cell_type": "code",
   "execution_count": 8,
   "metadata": {},
   "outputs": [
    {
     "data": {
      "text/plain": [
       "'book'"
      ]
     },
     "execution_count": 8,
     "metadata": {},
     "output_type": "execute_result"
    }
   ],
   "source": [
    "# 가장 먼저 등장하는 부모 element를 출력\n",
    "book.tag"
   ]
  },
  {
   "cell_type": "code",
   "execution_count": 9,
   "metadata": {},
   "outputs": [
    {
     "data": {
      "text/plain": [
       "[<Element 'name' at 0x000001AC6491E4D0>,\n",
       " <Element 'author' at 0x000001AC6491E6B0>,\n",
       " <Element 'year' at 0x000001AC6491D530>]"
      ]
     },
     "execution_count": 9,
     "metadata": {},
     "output_type": "execute_result"
    }
   ],
   "source": [
    "book_childs = list(book)\n",
    "book_childs"
   ]
  },
  {
   "cell_type": "code",
   "execution_count": 11,
   "metadata": {},
   "outputs": [
    {
     "data": {
      "text/plain": [
       "('혼자 공부하는 데이터 분석', '박해선', '2022')"
      ]
     },
     "execution_count": 11,
     "metadata": {},
     "output_type": "execute_result"
    }
   ],
   "source": [
    "name = book.findtext('name')\n",
    "author = book.findtext('author')\n",
    "year = book.findtext('year')\n",
    "\n",
    "name, author, year"
   ]
  },
  {
   "cell_type": "code",
   "execution_count": 13,
   "metadata": {},
   "outputs": [
    {
     "data": {
      "text/plain": [
       "[<Element 'book' at 0x000001AC649BD170>,\n",
       " <Element 'book' at 0x000001AC649BD3A0>]"
      ]
     },
     "execution_count": 13,
     "metadata": {},
     "output_type": "execute_result"
    }
   ],
   "source": [
    "x2_str = \"\"\"\n",
    "<books>\n",
    "    <book>\n",
    "        <name>혼자 공부하는 데이터 분석</name>\n",
    "        <author>박해선</author>\n",
    "        <year>2022</year>\n",
    "    </book>\n",
    "    <book>\n",
    "        <name>혼자 공부하는 머신러닝+딥러닝</name>\n",
    "        <author>박해선</author>\n",
    "        <year>2020</year>   \n",
    "    </book>\n",
    "</books>\n",
    "\"\"\"\n",
    "books = et.fromstring(x2_str)"
   ]
  },
  {
   "cell_type": "code",
   "execution_count": 14,
   "metadata": {},
   "outputs": [
    {
     "data": {
      "text/plain": [
       "[<Element 'book' at 0x000001AC649BD170>,\n",
       " <Element 'book' at 0x000001AC649BD3A0>]"
      ]
     },
     "execution_count": 14,
     "metadata": {},
     "output_type": "execute_result"
    }
   ],
   "source": [
    "books.findall('book')"
   ]
  },
  {
   "cell_type": "code",
   "execution_count": 15,
   "metadata": {},
   "outputs": [
    {
     "name": "stdout",
     "output_type": "stream",
     "text": [
      "혼자 공부하는 데이터 분석 박해선 2022\n",
      "혼자 공부하는 머신러닝+딥러닝 박해선 2020\n"
     ]
    }
   ],
   "source": [
    "for book in books.findall('book'):\n",
    "    name = book.findtext('name')\n",
    "    author = book.findtext('author')\n",
    "    year = book.findtext('year')\n",
    "\n",
    "    print(name, author, year)\n",
    "    "
   ]
  },
  {
   "cell_type": "code",
   "execution_count": 16,
   "metadata": {},
   "outputs": [
    {
     "data": {
      "text/plain": [
       "[<Element 'name' at 0x000001AC649BE340>]"
      ]
     },
     "execution_count": 16,
     "metadata": {},
     "output_type": "execute_result"
    }
   ],
   "source": [
    "book.findall('name')"
   ]
  },
  {
   "cell_type": "code",
   "execution_count": 17,
   "metadata": {},
   "outputs": [
    {
     "data": {
      "text/plain": [
       "[]"
      ]
     },
     "execution_count": 17,
     "metadata": {},
     "output_type": "execute_result"
    }
   ],
   "source": [
    "# 직접적인 자식들 중에서만 찾는다.\n",
    "books.findall('name')"
   ]
  },
  {
   "cell_type": "code",
   "execution_count": 25,
   "metadata": {},
   "outputs": [
    {
     "name": "stdout",
     "output_type": "stream",
     "text": [
      "None\n"
     ]
    }
   ],
   "source": [
    "# 이것도 마찬가지\n",
    "print(books.findtext('name'))"
   ]
  },
  {
   "cell_type": "code",
   "execution_count": 27,
   "metadata": {},
   "outputs": [
    {
     "name": "stdout",
     "output_type": "stream",
     "text": [
      "\n",
      "        \n"
     ]
    }
   ],
   "source": [
    "print(books.findtext('book'))"
   ]
  },
  {
   "cell_type": "code",
   "execution_count": 28,
   "metadata": {},
   "outputs": [
    {
     "name": "stdout",
     "output_type": "stream",
     "text": [
      "<Element 'book' at 0x000001AC649BD170>\n"
     ]
    }
   ],
   "source": [
    "print(books.find('book'))"
   ]
  }
 ],
 "metadata": {
  "kernelspec": {
   "display_name": "hongong",
   "language": "python",
   "name": "python3"
  },
  "language_info": {
   "codemirror_mode": {
    "name": "ipython",
    "version": 3
   },
   "file_extension": ".py",
   "mimetype": "text/x-python",
   "name": "python",
   "nbconvert_exporter": "python",
   "pygments_lexer": "ipython3",
   "version": "3.13.1"
  }
 },
 "nbformat": 4,
 "nbformat_minor": 2
}
