{
 "cells": [
  {
   "cell_type": "markdown",
   "metadata": {},
   "source": [
    "### 연습문제\n",
    "\n",
    "1. list(range(9))로 부터 텐서를 만들어보라. 사이즈, 오프셋, 스트라이드는 얼마일지 계산해 보라.   \n",
    "**a**. b= a.view(3,3)으로 텐서를 만들어라. view의 역할은 무엇인가? a와 b가 같은 공간을 가리키고 있는지 확인해보라.   \n",
    "**b**. c = b[1:,1:]로 텐서를 만들고 사이즈, 오프셋, 스트라이드는 얼마일지 계산해 보라."
   ]
  },
  {
   "cell_type": "code",
   "execution_count": 1,
   "metadata": {},
   "outputs": [
    {
     "name": "stdout",
     "output_type": "stream",
     "text": [
      "tensor([0, 1, 2, 3, 4, 5, 6, 7, 8])\n",
      "torch.Size([9])\n",
      "0\n",
      "(1,)\n"
     ]
    }
   ],
   "source": [
    "import torch\n",
    "# 사이즈는 크기가 9이니 9일꺼고, 오프셋은 시작점인데 0에서 시작할꺼고, 스트라이드는 1차원이니 (1,)\n",
    "a = torch.tensor(list(range(9))) \n",
    "print(a)\n",
    "print(a.size())\n",
    "print(a.storage_offset())\n",
    "print(a.stride())"
   ]
  },
  {
   "cell_type": "code",
   "execution_count": 2,
   "metadata": {},
   "outputs": [
    {
     "data": {
      "text/plain": [
       "tensor([[0, 1, 2],\n",
       "        [3, 4, 5],\n",
       "        [6, 7, 8]])"
      ]
     },
     "execution_count": 2,
     "metadata": {},
     "output_type": "execute_result"
    }
   ],
   "source": [
    "b = a.view(3,3)\n",
    "b"
   ]
  },
  {
   "cell_type": "markdown",
   "metadata": {},
   "source": [
    "### torch.Tensor.view\n",
    "```Tensor.view(*shape) → Tensor```   \n",
    "텐서와 같은 데이터 이지만 다른 shape의 텐서를 만든다. 데이터의 위치는 같다.\n",
    "Returns a new tensor with the same data as the self tensor but of a different shape."
   ]
  },
  {
   "cell_type": "code",
   "execution_count": 3,
   "metadata": {},
   "outputs": [
    {
     "name": "stdout",
     "output_type": "stream",
     "text": [
      "True\n",
      "(3, 1)\n"
     ]
    },
    {
     "name": "stderr",
     "output_type": "stream",
     "text": [
      "/tmp/ipykernel_83032/3932823291.py:1: UserWarning: TypedStorage is deprecated. It will be removed in the future and UntypedStorage will be the only storage class. This should only matter to you if you are using storages directly.  To access UntypedStorage directly, use tensor.untyped_storage() instead of tensor.storage()\n",
      "  print(b.storage().data_ptr() == a.storage().data_ptr())\n"
     ]
    }
   ],
   "source": [
    "print(b.storage().data_ptr() == a.storage().data_ptr())\n",
    "print(b.stride()) # (3,1)"
   ]
  },
  {
   "cell_type": "code",
   "execution_count": 4,
   "metadata": {},
   "outputs": [
    {
     "name": "stdout",
     "output_type": "stream",
     "text": [
      "tensor([[4, 5],\n",
      "        [7, 8]])\n",
      "torch.Size([2, 2])\n",
      "4\n",
      "(3, 1)\n"
     ]
    }
   ],
   "source": [
    "# b = 3 x 3, c = 2 x 2 \n",
    "c = b[1:,1:]\n",
    "# c의 사이즈는 2x2이고, offset은 4부터 시작하니 4일꺼고, \n",
    "# 스트라이드는 열은 1씩 증가하니깐 1이고 행은 3씩 증가히니깐 (3,1)\n",
    "print(c)\n",
    "print(c.size())\n",
    "print(c.storage_offset())\n",
    "print(c.stride())"
   ]
  },
  {
   "cell_type": "markdown",
   "metadata": {},
   "source": [
    "2. 코사인이나 제곱근 같은 수학 연산을 하나 골라라. 동일한 역할을 하는 함수를 torch라이브러리에서 찾을 수 있을까?   \n",
    "**a**. 텐서 a에 대해 해당함수를 요소 단위로 실행해보라. 왜 오류가 발생할까?   \n",
    "**b**. 동작시키려면 어떤 연산이 필요할까?   \n",
    "**c**. 해당 연산을 추가 공간을 사용하지 않고 실행하는 함수가 있을까?   \n"
   ]
  },
  {
   "cell_type": "markdown",
   "metadata": {},
   "source": [
    "### torch.cos\n",
    "torch.cos(input, *, out=None) → Tensor\n",
    "Returns a new tensor with the cosine of the elements of input.\n"
   ]
  },
  {
   "cell_type": "code",
   "execution_count": 5,
   "metadata": {},
   "outputs": [
    {
     "data": {
      "text/plain": [
       "tensor(1.)"
      ]
     },
     "execution_count": 5,
     "metadata": {},
     "output_type": "execute_result"
    }
   ],
   "source": [
    "torch.cos(a[0])"
   ]
  },
  {
   "cell_type": "code",
   "execution_count": 6,
   "metadata": {},
   "outputs": [
    {
     "data": {
      "text/plain": [
       "tensor([ 1.0000,  0.5403, -0.4161, -0.9900, -0.6536,  0.2837,  0.9602,  0.7539,\n",
       "        -0.1455])"
      ]
     },
     "execution_count": 6,
     "metadata": {},
     "output_type": "execute_result"
    }
   ],
   "source": [
    "torch.cos(a) # ??? "
   ]
  },
  {
   "cell_type": "markdown",
   "metadata": {},
   "source": [
    "### 여기는 챗지피티한테 물어본 해답"
   ]
  },
  {
   "cell_type": "code",
   "execution_count": 7,
   "metadata": {},
   "outputs": [],
   "source": [
    "# Tensor 생성\n",
    "a = torch.tensor([1, 2, 3], dtype=torch.int32)\n",
    "\n",
    "cosine_fn = torch.cos"
   ]
  },
  {
   "cell_type": "code",
   "execution_count": 8,
   "metadata": {},
   "outputs": [
    {
     "data": {
      "text/plain": [
       "tensor([1, 2, 3], dtype=torch.int32)"
      ]
     },
     "execution_count": 8,
     "metadata": {},
     "output_type": "execute_result"
    }
   ],
   "source": [
    "a"
   ]
  },
  {
   "cell_type": "code",
   "execution_count": 9,
   "metadata": {},
   "outputs": [],
   "source": [
    "# 코사인 함수 적용\n",
    "try:\n",
    "    result = cosine_fn(a)\n",
    "except RuntimeError as e:\n",
    "    print(\"Error:\", e)"
   ]
  },
  {
   "cell_type": "code",
   "execution_count": 10,
   "metadata": {},
   "outputs": [
    {
     "name": "stdout",
     "output_type": "stream",
     "text": [
      "Error with in-place operation: result type Float can't be cast to the desired output type Int\n"
     ]
    }
   ],
   "source": [
    "# In-place 연산 실행\n",
    "try:\n",
    "    a.cos_()\n",
    "except RuntimeError as e:\n",
    "    print(\"Error with in-place operation:\", e)"
   ]
  },
  {
   "cell_type": "code",
   "execution_count": 12,
   "metadata": {},
   "outputs": [
    {
     "data": {
      "text/plain": [
       "tensor([ 0.5403, -0.4161, -0.9900])"
      ]
     },
     "execution_count": 12,
     "metadata": {},
     "output_type": "execute_result"
    }
   ],
   "source": [
    "# cos_()는 새로운 텐서를 생성하지 않고 데이터를 넣어 사용, 근데 torch.cos()함수는 부동 소수점일때만, 작동\n",
    "# cos() 함수는 부동소수점이 아닐경우 자동으로 부동 소수점으로 바꿔주는듯.\n",
    "a_result = a.float().cos_()\n",
    "a_result"
   ]
  }
 ],
 "metadata": {
  "kernelspec": {
   "display_name": "torch",
   "language": "python",
   "name": "python3"
  },
  "language_info": {
   "codemirror_mode": {
    "name": "ipython",
    "version": 3
   },
   "file_extension": ".py",
   "mimetype": "text/x-python",
   "name": "python",
   "nbconvert_exporter": "python",
   "pygments_lexer": "ipython3",
   "version": "3.12.8"
  }
 },
 "nbformat": 4,
 "nbformat_minor": 2
}
